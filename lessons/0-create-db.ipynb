{
 "cells": [
  {
   "cell_type": "code",
   "execution_count": null,
   "id": "d56a6c29",
   "metadata": {},
   "outputs": [],
   "source": [
    "#  Before the cells below are run, please poetry install and run 'poetry run python -m ipykernel install --user --name=$(basename \"$PWD\")'. \n",
    "#  Then select the kernel named after the current directory in the top right corner of this notebook."
   ]
  },
  {
   "cell_type": "code",
   "execution_count": 20,
   "id": "406f770d",
   "metadata": {},
   "outputs": [
    {
     "name": "stdout",
     "output_type": "stream",
     "text": [
      "yes\n"
     ]
    }
   ],
   "source": [
    "import configparser\n",
    "\n",
    "config = configparser.ConfigParser()\n",
    "config.read('config.ini')\n",
    "\n",
    "if 'DEFAULT' in config and 'database' in config['DEFAULT']:\n",
    "    print('yes')\n",
    "    db_name = config['DEFAULT']['database']\n",
    "else:\n",
    "    db_name = 'practice.db'"
   ]
  },
  {
   "cell_type": "code",
   "execution_count": 39,
   "id": "8cb0f9e7",
   "metadata": {},
   "outputs": [
    {
     "name": "stdout",
     "output_type": "stream",
     "text": [
      "The sql extension is already loaded. To reload it, use:\n",
      "  %reload_ext sql\n"
     ]
    }
   ],
   "source": [
    "%load_ext sql\n",
    "%sql sqlite:///practice.db"
   ]
  },
  {
   "cell_type": "code",
   "execution_count": 2,
   "id": "df23fa15",
   "metadata": {},
   "outputs": [],
   "source": [
    "# reload / load the sql magic and set a compatible style\n",
    "%reload_ext sql\n",
    "%config SqlMagic.style = '_DEPRECATED_DEFAULT'\n",
    "%sql sqlite:///practice.db"
   ]
  },
  {
   "cell_type": "code",
   "execution_count": 29,
   "id": "5e10a8ac",
   "metadata": {},
   "outputs": [
    {
     "name": "stdout",
     "output_type": "stream",
     "text": [
      " * sqlite:///practice.db\n",
      "Done.\n",
      "Done.\n",
      "Done.\n",
      "Done.\n",
      "Done.\n",
      "Done.\n",
      "Done.\n",
      "0 rows affected.\n",
      "0 rows affected.\n",
      "0 rows affected.\n",
      "0 rows affected.\n",
      "0 rows affected.\n",
      "0 rows affected.\n"
     ]
    },
    {
     "data": {
      "text/plain": [
       "[]"
      ]
     },
     "execution_count": 29,
     "metadata": {},
     "output_type": "execute_result"
    }
   ],
   "source": [
    "%%sql \n",
    "  PRAGMA foreign_keys = ON;\n",
    "  --  Departments\n",
    "  CREATE TABLE IF NOT EXISTS departments (\n",
    "    id INTEGER PRIMARY KEY,\n",
    "    name TEXT NOT NULL\n",
    ");\n",
    "\n",
    "--  Employees\n",
    "  CREATE TABLE IF NOT EXISTS employees (\n",
    "    id INTEGER PRIMARY KEY,\n",
    "    name TEXT NOT NULL,\n",
    "    dept_id INTEGER,\n",
    "    salary INTEGER,\n",
    "    hire_date TEXT,\n",
    "    FOREIGN KEY(dept_id) REFERENCES departments(id)\n",
    ");\n",
    "\n",
    "--  Customers\n",
    "  CREATE TABLE IF NOT EXISTS customers (\n",
    "    id INTEGER PRIMARY KEY,\n",
    "    name TEXT NOT NULL,\n",
    "    city TEXT\n",
    ");\n",
    "\n",
    "--  Products\n",
    "  CREATE TABLE IF NOT EXISTS products (\n",
    "    id INTEGER PRIMARY KEY,\n",
    "    name TEXT NOT NULL,\n",
    "    category TEXT,\n",
    "    price REAL\n",
    ");\n",
    "\n",
    "--  Orders\n",
    "CREATE TABLE IF NOT EXISTS orders (\n",
    "  id INTEGER PRIMARY KEY,\n",
    "  customer_id INTEGER,\n",
    "  order_date TEXT,\n",
    "total REAL,\n",
    "  FOREIGN KEY(customer_id) REFERENCES customers(id)\n",
    ");\n",
    "\n",
    "--  Order items\n",
    "CREATE TABLE IF NOT EXISTS order_items (\n",
    "  id INTEGER PRIMARY KEY,\n",
    "  order_id INTEGER,\n",
    "  product_id INTEGER,\n",
    "  quantity INTEGER,\n",
    "  unit_price REAL,\n",
    "  FOREIGN KEY(order_id) REFERENCES orders(id),\n",
    "  FOREIGN KEY(product_id) REFERENCES products(id)\n",
    ");\n",
    "\n",
    "--  Seed departments\n",
    "INSERT OR IGNORE INTO departments (id, name) VALUES\n",
    "(1, 'Engineering'),\n",
    "(2, 'Sales'),\n",
    "(3, 'HR');\n",
    "\n",
    "--  Seed employees\n",
    "INSERT OR IGNORE INTO employees (id, name, dept_id, salary, hire_date) VALUES\n",
    "(1, 'Alice', 1, 90000, '2018-03-21'),\n",
    "(2, 'Bob', 1, 80000, '2019-07-15'),\n",
    "(3, 'Charlie', 2, 65000, '2020-01-10'),\n",
    "(4, 'Dana', 3, 70000, '2017-09-05'),\n",
    "(5, 'Eve', NULL, 72000, '2021-11-23');\n",
    "\n",
    "--  Seed customers\n",
    "INSERT OR IGNORE INTO customers (id, name, city) VALUES\n",
    "(1, 'Acme Corp', 'London'),\n",
    "(2, 'Bright Co', 'Berlin'),\n",
    "(3, 'Cafe 123', 'Paris');\n",
    "\n",
    "--  Seed products\n",
    "INSERT OR IGNORE INTO products (id, name, category, price) VALUES\n",
    "(1, 'Laptop', 'Electronics', 1200.0),\n",
    "(2, 'Mouse', 'Electronics', 25.0),\n",
    "(3, 'Mug', 'Home', 8.5),\n",
    "(4, 'Notebook', 'Stationery', 3.5);\n",
    "\n",
    "--  Seed orders\n",
    "INSERT OR IGNORE INTO orders (id, customer_id, order_date, total) VALUES\n",
    "  (1, 1, '2023-05-01', 1225.0),\n",
    "  (2, 3, '2023-05-03', 11.0),\n",
    "  (3, 2, '2023-06-15', 2400.0);\n",
    "  \n",
    "--  Seed order_items\n",
    "INSERT OR IGNORE INTO order_items (id, order_id, product_id, quantity,\n",
    "  unit_price) VALUES\n",
    "  (1, 1, 1, 1, 1200.0),\n",
    "  (2, 1, 2, 1, 25.0),\n",
    "  (3, 2, 3, 1, 8.5),\n",
    "  (4, 3, 1, 2, 1200.0);"
   ]
  },
  {
   "cell_type": "code",
   "execution_count": 1,
   "id": "eac976e2",
   "metadata": {},
   "outputs": [
    {
     "name": "stderr",
     "output_type": "stream",
     "text": [
      "UsageError: Cell magic `%%sql` not found.\n"
     ]
    }
   ],
   "source": [
    "%%sql\n",
    "SELECT 'ok' AS status;"
   ]
  },
  {
   "cell_type": "code",
   "execution_count": 3,
   "id": "3c06ad8d",
   "metadata": {},
   "outputs": [
    {
     "name": "stdout",
     "output_type": "stream",
     "text": [
      " * sqlite:///practice.db\n",
      "Done.\n"
     ]
    },
    {
     "data": {
      "text/html": [
       "<table>\n",
       "    <thead>\n",
       "        <tr>\n",
       "            <th>id</th>\n",
       "            <th>name</th>\n",
       "            <th>city</th>\n",
       "        </tr>\n",
       "    </thead>\n",
       "    <tbody>\n",
       "        <tr>\n",
       "            <td>1</td>\n",
       "            <td>Acme Corp</td>\n",
       "            <td>London</td>\n",
       "        </tr>\n",
       "        <tr>\n",
       "            <td>2</td>\n",
       "            <td>Bright Co</td>\n",
       "            <td>Berlin</td>\n",
       "        </tr>\n",
       "        <tr>\n",
       "            <td>3</td>\n",
       "            <td>Cafe 123</td>\n",
       "            <td>Paris</td>\n",
       "        </tr>\n",
       "    </tbody>\n",
       "</table>"
      ],
      "text/plain": [
       "[(1, 'Acme Corp', 'London'),\n",
       " (2, 'Bright Co', 'Berlin'),\n",
       " (3, 'Cafe 123', 'Paris')]"
      ]
     },
     "execution_count": 3,
     "metadata": {},
     "output_type": "execute_result"
    }
   ],
   "source": [
    "%%sql\n",
    "\n",
    "SELECT * FROM customers;"
   ]
  },
  {
   "cell_type": "code",
   "execution_count": 4,
   "id": "cfaa7e4d",
   "metadata": {},
   "outputs": [
    {
     "name": "stdout",
     "output_type": "stream",
     "text": [
      " * sqlite:///practice.db\n",
      "Done.\n"
     ]
    },
    {
     "data": {
      "text/html": [
       "<table>\n",
       "    <thead>\n",
       "        <tr>\n",
       "            <th>id</th>\n",
       "            <th>customer_id</th>\n",
       "            <th>order_date</th>\n",
       "            <th>total</th>\n",
       "        </tr>\n",
       "    </thead>\n",
       "    <tbody>\n",
       "        <tr>\n",
       "            <td>1</td>\n",
       "            <td>1</td>\n",
       "            <td>2023-05-01</td>\n",
       "            <td>1225.0</td>\n",
       "        </tr>\n",
       "        <tr>\n",
       "            <td>2</td>\n",
       "            <td>3</td>\n",
       "            <td>2023-05-03</td>\n",
       "            <td>11.0</td>\n",
       "        </tr>\n",
       "        <tr>\n",
       "            <td>3</td>\n",
       "            <td>2</td>\n",
       "            <td>2023-06-15</td>\n",
       "            <td>2400.0</td>\n",
       "        </tr>\n",
       "    </tbody>\n",
       "</table>"
      ],
      "text/plain": [
       "[(1, 1, '2023-05-01', 1225.0),\n",
       " (2, 3, '2023-05-03', 11.0),\n",
       " (3, 2, '2023-06-15', 2400.0)]"
      ]
     },
     "execution_count": 4,
     "metadata": {},
     "output_type": "execute_result"
    }
   ],
   "source": [
    "%%sql\n",
    "\n",
    "SELECT * FROM orders;"
   ]
  },
  {
   "cell_type": "code",
   "execution_count": 5,
   "id": "16b0b158",
   "metadata": {},
   "outputs": [
    {
     "name": "stdout",
     "output_type": "stream",
     "text": [
      " * sqlite:///practice.db\n",
      "Done.\n"
     ]
    },
    {
     "data": {
      "text/html": [
       "<table>\n",
       "    <thead>\n",
       "        <tr>\n",
       "            <th>id</th>\n",
       "            <th>name</th>\n",
       "            <th>category</th>\n",
       "            <th>price</th>\n",
       "        </tr>\n",
       "    </thead>\n",
       "    <tbody>\n",
       "        <tr>\n",
       "            <td>1</td>\n",
       "            <td>Laptop</td>\n",
       "            <td>Electronics</td>\n",
       "            <td>1200.0</td>\n",
       "        </tr>\n",
       "        <tr>\n",
       "            <td>2</td>\n",
       "            <td>Mouse</td>\n",
       "            <td>Electronics</td>\n",
       "            <td>25.0</td>\n",
       "        </tr>\n",
       "        <tr>\n",
       "            <td>3</td>\n",
       "            <td>Mug</td>\n",
       "            <td>Home</td>\n",
       "            <td>8.5</td>\n",
       "        </tr>\n",
       "        <tr>\n",
       "            <td>4</td>\n",
       "            <td>Notebook</td>\n",
       "            <td>Stationery</td>\n",
       "            <td>3.5</td>\n",
       "        </tr>\n",
       "    </tbody>\n",
       "</table>"
      ],
      "text/plain": [
       "[(1, 'Laptop', 'Electronics', 1200.0),\n",
       " (2, 'Mouse', 'Electronics', 25.0),\n",
       " (3, 'Mug', 'Home', 8.5),\n",
       " (4, 'Notebook', 'Stationery', 3.5)]"
      ]
     },
     "execution_count": 5,
     "metadata": {},
     "output_type": "execute_result"
    }
   ],
   "source": [
    "%%sql\n",
    "SELECT * FROM products;"
   ]
  },
  {
   "cell_type": "code",
   "execution_count": 6,
   "id": "fc69a8ef",
   "metadata": {},
   "outputs": [
    {
     "name": "stdout",
     "output_type": "stream",
     "text": [
      " * sqlite:///practice.db\n",
      "Done.\n"
     ]
    },
    {
     "data": {
      "text/html": [
       "<table>\n",
       "    <thead>\n",
       "        <tr>\n",
       "            <th>id</th>\n",
       "            <th>order_id</th>\n",
       "            <th>product_id</th>\n",
       "            <th>quantity</th>\n",
       "            <th>unit_price</th>\n",
       "        </tr>\n",
       "    </thead>\n",
       "    <tbody>\n",
       "        <tr>\n",
       "            <td>1</td>\n",
       "            <td>1</td>\n",
       "            <td>1</td>\n",
       "            <td>1</td>\n",
       "            <td>1200.0</td>\n",
       "        </tr>\n",
       "        <tr>\n",
       "            <td>2</td>\n",
       "            <td>1</td>\n",
       "            <td>2</td>\n",
       "            <td>1</td>\n",
       "            <td>25.0</td>\n",
       "        </tr>\n",
       "        <tr>\n",
       "            <td>3</td>\n",
       "            <td>2</td>\n",
       "            <td>3</td>\n",
       "            <td>1</td>\n",
       "            <td>8.5</td>\n",
       "        </tr>\n",
       "        <tr>\n",
       "            <td>4</td>\n",
       "            <td>3</td>\n",
       "            <td>1</td>\n",
       "            <td>2</td>\n",
       "            <td>1200.0</td>\n",
       "        </tr>\n",
       "    </tbody>\n",
       "</table>"
      ],
      "text/plain": [
       "[(1, 1, 1, 1, 1200.0),\n",
       " (2, 1, 2, 1, 25.0),\n",
       " (3, 2, 3, 1, 8.5),\n",
       " (4, 3, 1, 2, 1200.0)]"
      ]
     },
     "execution_count": 6,
     "metadata": {},
     "output_type": "execute_result"
    }
   ],
   "source": [
    "%%sql\n",
    "SELECT * FROM order_items;"
   ]
  },
  {
   "cell_type": "code",
   "execution_count": 7,
   "id": "a87e2c26",
   "metadata": {},
   "outputs": [
    {
     "name": "stdout",
     "output_type": "stream",
     "text": [
      " * sqlite:///practice.db\n",
      "Done.\n"
     ]
    },
    {
     "data": {
      "text/html": [
       "<table>\n",
       "    <thead>\n",
       "        <tr>\n",
       "            <th>id</th>\n",
       "            <th>name</th>\n",
       "            <th>dept_id</th>\n",
       "            <th>salary</th>\n",
       "            <th>hire_date</th>\n",
       "        </tr>\n",
       "    </thead>\n",
       "    <tbody>\n",
       "        <tr>\n",
       "            <td>1</td>\n",
       "            <td>Alice</td>\n",
       "            <td>1</td>\n",
       "            <td>90000</td>\n",
       "            <td>2018-03-21</td>\n",
       "        </tr>\n",
       "        <tr>\n",
       "            <td>2</td>\n",
       "            <td>Bob</td>\n",
       "            <td>1</td>\n",
       "            <td>80000</td>\n",
       "            <td>2019-07-15</td>\n",
       "        </tr>\n",
       "        <tr>\n",
       "            <td>3</td>\n",
       "            <td>Charlie</td>\n",
       "            <td>2</td>\n",
       "            <td>65000</td>\n",
       "            <td>2020-01-10</td>\n",
       "        </tr>\n",
       "        <tr>\n",
       "            <td>4</td>\n",
       "            <td>Dana</td>\n",
       "            <td>3</td>\n",
       "            <td>70000</td>\n",
       "            <td>2017-09-05</td>\n",
       "        </tr>\n",
       "        <tr>\n",
       "            <td>5</td>\n",
       "            <td>Eve</td>\n",
       "            <td>None</td>\n",
       "            <td>72000</td>\n",
       "            <td>2021-11-23</td>\n",
       "        </tr>\n",
       "    </tbody>\n",
       "</table>"
      ],
      "text/plain": [
       "[(1, 'Alice', 1, 90000, '2018-03-21'),\n",
       " (2, 'Bob', 1, 80000, '2019-07-15'),\n",
       " (3, 'Charlie', 2, 65000, '2020-01-10'),\n",
       " (4, 'Dana', 3, 70000, '2017-09-05'),\n",
       " (5, 'Eve', None, 72000, '2021-11-23')]"
      ]
     },
     "execution_count": 7,
     "metadata": {},
     "output_type": "execute_result"
    }
   ],
   "source": [
    "%%sql\n",
    "SELECT * FROM employees;"
   ]
  },
  {
   "cell_type": "code",
   "execution_count": 8,
   "id": "9a09d75f",
   "metadata": {},
   "outputs": [
    {
     "name": "stdout",
     "output_type": "stream",
     "text": [
      " * sqlite:///practice.db\n",
      "Done.\n"
     ]
    },
    {
     "data": {
      "text/html": [
       "<table>\n",
       "    <thead>\n",
       "        <tr>\n",
       "            <th>id</th>\n",
       "            <th>name</th>\n",
       "        </tr>\n",
       "    </thead>\n",
       "    <tbody>\n",
       "        <tr>\n",
       "            <td>1</td>\n",
       "            <td>Engineering</td>\n",
       "        </tr>\n",
       "        <tr>\n",
       "            <td>2</td>\n",
       "            <td>Sales</td>\n",
       "        </tr>\n",
       "        <tr>\n",
       "            <td>3</td>\n",
       "            <td>HR</td>\n",
       "        </tr>\n",
       "    </tbody>\n",
       "</table>"
      ],
      "text/plain": [
       "[(1, 'Engineering'), (2, 'Sales'), (3, 'HR')]"
      ]
     },
     "execution_count": 8,
     "metadata": {},
     "output_type": "execute_result"
    }
   ],
   "source": [
    "%%sql\n",
    "SELECT * FROM departments;"
   ]
  },
  {
   "cell_type": "code",
   "execution_count": null,
   "id": "9180f734",
   "metadata": {},
   "outputs": [],
   "source": []
  }
 ],
 "metadata": {
  "kernelspec": {
   "display_name": "learn-sql--afPZWrd-py3.11",
   "language": "python",
   "name": "python3"
  },
  "language_info": {
   "codemirror_mode": {
    "name": "ipython",
    "version": 3
   },
   "file_extension": ".py",
   "mimetype": "text/x-python",
   "name": "python",
   "nbconvert_exporter": "python",
   "pygments_lexer": "ipython3",
   "version": "3.11.4"
  }
 },
 "nbformat": 4,
 "nbformat_minor": 5
}
