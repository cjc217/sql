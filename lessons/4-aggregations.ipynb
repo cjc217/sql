{
 "cells": [
  {
   "cell_type": "code",
   "execution_count": 1,
   "id": "3546d61b",
   "metadata": {},
   "outputs": [],
   "source": [
    "%reload_ext sql\n",
    "%config SqlMagic.style = '_DEPRECATED_DEFAULT'\n",
    "%sql sqlite:///practice.db"
   ]
  },
  {
   "cell_type": "markdown",
   "id": "0b49eb02",
   "metadata": {},
   "source": [
    "# Aggregations, GROUP BY and HAVING"
   ]
  },
  {
   "cell_type": "code",
   "execution_count": null,
   "id": "b8c6f6d2",
   "metadata": {},
   "outputs": [],
   "source": [
    "# This is used to summarise the data \n",
    "# The functions are: COUNT() , SUM() , AVG() , MIN() , MAX()\n",
    "\n",
    "# Syntax:\n",
    "# SELECT col1, COUNT(*) AS count, AVG(col2) AS avg_col2\n",
    "# FROM table\n",
    "# GROUP BY dept_id\n",
    "# HAVING COUNT(*) >= 1"
   ]
  },
  {
   "cell_type": "code",
   "execution_count": 3,
   "id": "e79da5ca",
   "metadata": {},
   "outputs": [
    {
     "name": "stdout",
     "output_type": "stream",
     "text": [
      " * sqlite:///practice.db\n",
      "Done.\n"
     ]
    },
    {
     "data": {
      "text/html": [
       "<table>\n",
       "    <thead>\n",
       "        <tr>\n",
       "            <th>dept_id</th>\n",
       "            <th>headcount</th>\n",
       "            <th>avg_salary</th>\n",
       "        </tr>\n",
       "    </thead>\n",
       "    <tbody>\n",
       "        <tr>\n",
       "            <td>None</td>\n",
       "            <td>1</td>\n",
       "            <td>72000.0</td>\n",
       "        </tr>\n",
       "        <tr>\n",
       "            <td>1</td>\n",
       "            <td>2</td>\n",
       "            <td>85000.0</td>\n",
       "        </tr>\n",
       "        <tr>\n",
       "            <td>2</td>\n",
       "            <td>1</td>\n",
       "            <td>65000.0</td>\n",
       "        </tr>\n",
       "        <tr>\n",
       "            <td>3</td>\n",
       "            <td>1</td>\n",
       "            <td>70000.0</td>\n",
       "        </tr>\n",
       "    </tbody>\n",
       "</table>"
      ],
      "text/plain": [
       "[(None, 1, 72000.0), (1, 2, 85000.0), (2, 1, 65000.0), (3, 1, 70000.0)]"
      ]
     },
     "execution_count": 3,
     "metadata": {},
     "output_type": "execute_result"
    }
   ],
   "source": [
    "%%sql\n",
    "SELECT dept_id, COUNT(*) AS headcount, AVG(salary) AS avg_salary\n",
    "FROM employees\n",
    "GROUP BY dept_id\n",
    "HAVING COUNT(*) >= 1;"
   ]
  },
  {
   "cell_type": "code",
   "execution_count": null,
   "id": "4f0523f8",
   "metadata": {},
   "outputs": [],
   "source": [
    "%%sql\n",
    "SELECT dept_id, COUNT(*) AS headcount, AVG(salary) AS avg_salary\n",
    "FROM employees\n",
    "GROUP BY dept_id\n",
    "HAVING COUNT(*) >= 2;"
   ]
  },
  {
   "cell_type": "code",
   "execution_count": null,
   "id": "d3094c8e",
   "metadata": {},
   "outputs": [],
   "source": [
    "# Questions\n",
    "\n",
    "# 1. How many products per category?\n",
    "# 2. Total revenue across all orders.\n",
    "# 3. Average order total per customer."
   ]
  },
  {
   "cell_type": "code",
   "execution_count": 7,
   "id": "2d0c9ea2",
   "metadata": {},
   "outputs": [
    {
     "name": "stdout",
     "output_type": "stream",
     "text": [
      " * sqlite:///practice.db\n",
      "Done.\n"
     ]
    },
    {
     "data": {
      "text/html": [
       "<table>\n",
       "    <thead>\n",
       "        <tr>\n",
       "            <th>category</th>\n",
       "            <th>count</th>\n",
       "        </tr>\n",
       "    </thead>\n",
       "    <tbody>\n",
       "        <tr>\n",
       "            <td>Electronics</td>\n",
       "            <td>2</td>\n",
       "        </tr>\n",
       "        <tr>\n",
       "            <td>Home</td>\n",
       "            <td>1</td>\n",
       "        </tr>\n",
       "        <tr>\n",
       "            <td>Stationery</td>\n",
       "            <td>1</td>\n",
       "        </tr>\n",
       "    </tbody>\n",
       "</table>"
      ],
      "text/plain": [
       "[('Electronics', 2), ('Home', 1), ('Stationery', 1)]"
      ]
     },
     "execution_count": 7,
     "metadata": {},
     "output_type": "execute_result"
    }
   ],
   "source": [
    "%%sql\n",
    "-- 1\n",
    "SELECT category, count(*) AS count FROM products GROUP BY category;"
   ]
  },
  {
   "cell_type": "code",
   "execution_count": 9,
   "id": "ff0ff6ae",
   "metadata": {},
   "outputs": [
    {
     "name": "stdout",
     "output_type": "stream",
     "text": [
      " * sqlite:///practice.db\n",
      "Done.\n"
     ]
    },
    {
     "data": {
      "text/html": [
       "<table>\n",
       "    <thead>\n",
       "        <tr>\n",
       "            <th>sum_total</th>\n",
       "        </tr>\n",
       "    </thead>\n",
       "    <tbody>\n",
       "        <tr>\n",
       "            <td>3636.0</td>\n",
       "        </tr>\n",
       "    </tbody>\n",
       "</table>"
      ],
      "text/plain": [
       "[(3636.0,)]"
      ]
     },
     "execution_count": 9,
     "metadata": {},
     "output_type": "execute_result"
    }
   ],
   "source": [
    "%%sql\n",
    "-- 2\n",
    "SELECT SUM(total) as sum_total FROM orders;"
   ]
  },
  {
   "cell_type": "code",
   "execution_count": 22,
   "id": "6a31c50e",
   "metadata": {},
   "outputs": [
    {
     "name": "stdout",
     "output_type": "stream",
     "text": [
      " * sqlite:///practice.db\n",
      "Done.\n"
     ]
    },
    {
     "data": {
      "text/html": [
       "<table>\n",
       "    <thead>\n",
       "        <tr>\n",
       "            <th>id</th>\n",
       "            <th>avg_total</th>\n",
       "        </tr>\n",
       "    </thead>\n",
       "    <tbody>\n",
       "        <tr>\n",
       "            <td>1</td>\n",
       "            <td>1225.0</td>\n",
       "        </tr>\n",
       "        <tr>\n",
       "            <td>2</td>\n",
       "            <td>2400.0</td>\n",
       "        </tr>\n",
       "        <tr>\n",
       "            <td>3</td>\n",
       "            <td>11.0</td>\n",
       "        </tr>\n",
       "    </tbody>\n",
       "</table>"
      ],
      "text/plain": [
       "[(1, 1225.0), (2, 2400.0), (3, 11.0)]"
      ]
     },
     "execution_count": 22,
     "metadata": {},
     "output_type": "execute_result"
    }
   ],
   "source": [
    "%%sql\n",
    "-- 3\n",
    "SELECT c.id, AVG(o.total) as avg_total FROM orders o JOIN customers c ON c.id = o.customer_id GROUP BY c.id;\n",
    "\n"
   ]
  },
  {
   "cell_type": "code",
   "execution_count": null,
   "id": "61acd283",
   "metadata": {},
   "outputs": [],
   "source": [
    "# Solutions\n",
    "\n",
    "# SELECT category, COUNT(*) AS count FROM products GROUP BY category;\n",
    "# SELECT SUM(total) AS total_revenue FROM orders;\n",
    "# SELECT c.name, AVG(o.total) AS avg_total FROM customers c JOIN orders o ON\n",
    "# c.id = o.customer_id GROUP BY c.id;"
   ]
  }
 ],
 "metadata": {
  "kernelspec": {
   "display_name": "learn-sql--afPZWrd-py3.11",
   "language": "python",
   "name": "python3"
  },
  "language_info": {
   "codemirror_mode": {
    "name": "ipython",
    "version": 3
   },
   "file_extension": ".py",
   "mimetype": "text/x-python",
   "name": "python",
   "nbconvert_exporter": "python",
   "pygments_lexer": "ipython3",
   "version": "3.11.4"
  }
 },
 "nbformat": 4,
 "nbformat_minor": 5
}
