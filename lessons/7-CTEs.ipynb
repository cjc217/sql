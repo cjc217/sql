{
 "cells": [
  {
   "cell_type": "code",
   "execution_count": 1,
   "id": "3546d61b",
   "metadata": {},
   "outputs": [],
   "source": [
    "%reload_ext sql\n",
    "%config SqlMagic.style = '_DEPRECATED_DEFAULT'\n",
    "%sql sqlite:///practice.db"
   ]
  },
  {
   "cell_type": "markdown",
   "id": "0b49eb02",
   "metadata": {},
   "source": [
    "# CTEs and recursive queries in SQL"
   ]
  },
  {
   "cell_type": "code",
   "execution_count": null,
   "id": "b8c6f6d2",
   "metadata": {},
   "outputs": [],
   "source": [
    "# This if for creating a temp table to query from, allowing for cleanly structured complex queries.\n",
    "\n",
    "# WITH recent_orders AS (\n",
    "#     SELECT * FROM orders WHERE order_date >= '2023-05-01'\n",
    "#   )\n",
    "#   SELECT ro.id, c.name, ro.total\n",
    "#   FROM recent_orders ro\n",
    "#   JOIN customers c ON ro.customer_id = c.id;\n",
    "\n",
    "\n",
    "# Example recursive\n",
    "\n",
    "#   WITH RECURSIVE seq(x) AS (\n",
    "#     SELECT 1\n",
    "# UNION ALL\n",
    "#     SELECT x+1 FROM seq WHERE x < 5\n",
    "#   )\n",
    "# SELECT * FROM seq;"
   ]
  },
  {
   "cell_type": "code",
   "execution_count": 5,
   "id": "e79da5ca",
   "metadata": {},
   "outputs": [
    {
     "name": "stdout",
     "output_type": "stream",
     "text": [
      " * sqlite:///practice.db\n",
      "Done.\n"
     ]
    },
    {
     "data": {
      "text/html": [
       "<table>\n",
       "    <thead>\n",
       "        <tr>\n",
       "            <th>id</th>\n",
       "            <th>name</th>\n",
       "            <th>city</th>\n",
       "        </tr>\n",
       "    </thead>\n",
       "    <tbody>\n",
       "        <tr>\n",
       "            <td>1</td>\n",
       "            <td>Acme Corp</td>\n",
       "            <td>London</td>\n",
       "        </tr>\n",
       "        <tr>\n",
       "            <td>2</td>\n",
       "            <td>Bright Co</td>\n",
       "            <td>Berlin</td>\n",
       "        </tr>\n",
       "    </tbody>\n",
       "</table>"
      ],
      "text/plain": [
       "[(1, 'Acme Corp', 'London'), (2, 'Bright Co', 'Berlin')]"
      ]
     },
     "execution_count": 5,
     "metadata": {},
     "output_type": "execute_result"
    }
   ],
   "source": [
    "%%sql\n",
    "-- Customers who have orders with total > 1000\n",
    "SELECT * FROM customers\n",
    "WHERE id IN (SELECT customer_id FROM orders WHERE total > 1000);"
   ]
  },
  {
   "cell_type": "code",
   "execution_count": 6,
   "id": "4f0523f8",
   "metadata": {},
   "outputs": [
    {
     "name": "stdout",
     "output_type": "stream",
     "text": [
      " * sqlite:///practice.db\n",
      "Done.\n"
     ]
    },
    {
     "data": {
      "text/html": [
       "<table>\n",
       "    <thead>\n",
       "        <tr>\n",
       "            <th>customer_id</th>\n",
       "            <th>avg_order</th>\n",
       "        </tr>\n",
       "    </thead>\n",
       "    <tbody>\n",
       "        <tr>\n",
       "            <td>1</td>\n",
       "            <td>1225.0</td>\n",
       "        </tr>\n",
       "        <tr>\n",
       "            <td>2</td>\n",
       "            <td>2400.0</td>\n",
       "        </tr>\n",
       "        <tr>\n",
       "            <td>3</td>\n",
       "            <td>11.0</td>\n",
       "        </tr>\n",
       "    </tbody>\n",
       "</table>"
      ],
      "text/plain": [
       "[(1, 1225.0), (2, 2400.0), (3, 11.0)]"
      ]
     },
     "execution_count": 6,
     "metadata": {},
     "output_type": "execute_result"
    }
   ],
   "source": [
    "%%sql\n",
    "-- with derived table \n",
    "SELECT t.customer_id, AVG(t.total) AS avg_order\n",
    "  FROM (SELECT * FROM orders WHERE order_date >= '2023-01-01') t\n",
    "  GROUP BY t.customer_id;"
   ]
  },
  {
   "cell_type": "code",
   "execution_count": null,
   "id": "d3094c8e",
   "metadata": {},
   "outputs": [],
   "source": [
    "# Questions\n",
    "\n",
    "# 1. Find customers who ordered product id = 1.\n",
    "# 2. List products with price greater than the average product price."
   ]
  },
  {
   "cell_type": "code",
   "execution_count": 20,
   "id": "2d0c9ea2",
   "metadata": {},
   "outputs": [
    {
     "name": "stdout",
     "output_type": "stream",
     "text": [
      " * sqlite:///practice.db\n",
      "Done.\n"
     ]
    },
    {
     "data": {
      "text/html": [
       "<table>\n",
       "    <thead>\n",
       "        <tr>\n",
       "            <th>name</th>\n",
       "            <th>product_id</th>\n",
       "        </tr>\n",
       "    </thead>\n",
       "    <tbody>\n",
       "        <tr>\n",
       "            <td>Acme Corp</td>\n",
       "            <td>1</td>\n",
       "        </tr>\n",
       "        <tr>\n",
       "            <td>Bright Co</td>\n",
       "            <td>1</td>\n",
       "        </tr>\n",
       "    </tbody>\n",
       "</table>"
      ],
      "text/plain": [
       "[('Acme Corp', 1), ('Bright Co', 1)]"
      ]
     },
     "execution_count": 20,
     "metadata": {},
     "output_type": "execute_result"
    }
   ],
   "source": [
    "%%sql\n",
    "-- 1\n",
    "SELECT c.name, j.product_id\n",
    "FROM customers c\n",
    "JOIN (\n",
    "    SELECT o.id AS order_id, o.customer_id, oi.product_id\n",
    "    FROM orders o JOIN order_items oi ON o.id = oi.order_id\n",
    "    WHERE oi.product_id = 1\n",
    "    ) j\n",
    "WHERE c.id = j.customer_id;"
   ]
  },
  {
   "cell_type": "code",
   "execution_count": 21,
   "id": "ff0ff6ae",
   "metadata": {},
   "outputs": [
    {
     "name": "stdout",
     "output_type": "stream",
     "text": [
      " * sqlite:///practice.db\n",
      "Done.\n"
     ]
    },
    {
     "data": {
      "text/html": [
       "<table>\n",
       "    <thead>\n",
       "        <tr>\n",
       "            <th>id</th>\n",
       "            <th>name</th>\n",
       "            <th>category</th>\n",
       "            <th>price</th>\n",
       "        </tr>\n",
       "    </thead>\n",
       "    <tbody>\n",
       "        <tr>\n",
       "            <td>1</td>\n",
       "            <td>Laptop</td>\n",
       "            <td>Electronics</td>\n",
       "            <td>1200.0</td>\n",
       "        </tr>\n",
       "    </tbody>\n",
       "</table>"
      ],
      "text/plain": [
       "[(1, 'Laptop', 'Electronics', 1200.0)]"
      ]
     },
     "execution_count": 21,
     "metadata": {},
     "output_type": "execute_result"
    }
   ],
   "source": [
    "%%sql\n",
    "-- 2 List products with price greater than the average product price.\n",
    "\n",
    "SELECT * FROM products\n",
    "WHERE price > (SELECT AVG(price) FROM products);"
   ]
  },
  {
   "cell_type": "code",
   "execution_count": null,
   "id": "61acd283",
   "metadata": {},
   "outputs": [],
   "source": [
    "# Solutions\n",
    "\n",
    "# 1. SELECT * FROM customers \n",
    "#   WHERE id IN (\n",
    "#       SELECT customer_id FROM order_items oi \n",
    "#       JOIN products p ON oi.product_id = p.id \n",
    "#       WHERE p.id = 1\n",
    "#       ); \n",
    "# 2. SELECT * FROM products WHERE price > (SELECT AVG(price) FROM products);\n",
    "\n"
   ]
  }
 ],
 "metadata": {
  "kernelspec": {
   "display_name": "learn-sql--afPZWrd-py3.11",
   "language": "python",
   "name": "python3"
  },
  "language_info": {
   "codemirror_mode": {
    "name": "ipython",
    "version": 3
   },
   "file_extension": ".py",
   "mimetype": "text/x-python",
   "name": "python",
   "nbconvert_exporter": "python",
   "pygments_lexer": "ipython3",
   "version": "3.11.4"
  }
 },
 "nbformat": 4,
 "nbformat_minor": 5
}
