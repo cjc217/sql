{
 "cells": [
  {
   "cell_type": "code",
   "execution_count": 1,
   "id": "3546d61b",
   "metadata": {},
   "outputs": [],
   "source": [
    "%reload_ext sql\n",
    "%config SqlMagic.style = '_DEPRECATED_DEFAULT'\n",
    "%sql sqlite:///practice.db"
   ]
  },
  {
   "cell_type": "markdown",
   "id": "0b49eb02",
   "metadata": {},
   "source": [
    "# CTEs and recursive queries in SQL"
   ]
  },
  {
   "cell_type": "code",
   "execution_count": null,
   "id": "b8c6f6d2",
   "metadata": {},
   "outputs": [],
   "source": [
    "# This if for creating a temp table to query from, allowing for cleanly structured complex queries.\n",
    "\n",
    "# WITH recent_orders AS (\n",
    "#     SELECT * FROM orders WHERE order_date >= '2023-05-01'\n",
    "#   )\n",
    "#   SELECT ro.id, c.name, ro.total\n",
    "#   FROM recent_orders ro\n",
    "#   JOIN customers c ON ro.customer_id = c.id;\n",
    "\n",
    "\n",
    "# Example recursive\n",
    "\n",
    "#   WITH RECURSIVE seq(x) AS (\n",
    "#     SELECT 1\n",
    "# UNION ALL\n",
    "#     SELECT x+1 FROM seq WHERE x < 5\n",
    "#   )\n",
    "# SELECT * FROM seq;"
   ]
  },
  {
   "cell_type": "code",
   "execution_count": null,
   "id": "9abe432e",
   "metadata": {},
   "outputs": [],
   "source": [
    "# Questions\n",
    "\n",
    "# 1. Use a CTE to compute each customer's total spend (sum of their orders).\n",
    "# 2. Use a recursive CTE to generate the numbers 1..10."
   ]
  },
  {
   "cell_type": "code",
   "execution_count": null,
   "id": "01a83712",
   "metadata": {},
   "outputs": [
    {
     "name": "stdout",
     "output_type": "stream",
     "text": [
      " * sqlite:///practice.db\n",
      "Done.\n"
     ]
    },
    {
     "data": {
      "text/html": [
       "<table>\n",
       "    <thead>\n",
       "        <tr>\n",
       "            <th>customer_id</th>\n",
       "            <th>total_spend</th>\n",
       "        </tr>\n",
       "    </thead>\n",
       "    <tbody>\n",
       "        <tr>\n",
       "            <td>1</td>\n",
       "            <td>1225.0</td>\n",
       "        </tr>\n",
       "        <tr>\n",
       "            <td>2</td>\n",
       "            <td>2400.0</td>\n",
       "        </tr>\n",
       "        <tr>\n",
       "            <td>3</td>\n",
       "            <td>11.0</td>\n",
       "        </tr>\n",
       "    </tbody>\n",
       "</table>"
      ],
      "text/plain": [
       "[(1, 1225.0), (2, 2400.0), (3, 11.0)]"
      ]
     },
     "execution_count": 12,
     "metadata": {},
     "output_type": "execute_result"
    }
   ],
   "source": [
    "%%sql\n",
    "-- 1 without CTE\n",
    "SELECT customer_id, SUM(total) AS total_spend FROM orders GROUP BY customer_id;"
   ]
  },
  {
   "cell_type": "code",
   "execution_count": 14,
   "id": "a2ffaa0d",
   "metadata": {},
   "outputs": [
    {
     "name": "stdout",
     "output_type": "stream",
     "text": [
      " * sqlite:///practice.db\n",
      "Done.\n"
     ]
    },
    {
     "data": {
      "text/html": [
       "<table>\n",
       "    <thead>\n",
       "        <tr>\n",
       "            <th>customer_id</th>\n",
       "            <th>total_spent</th>\n",
       "        </tr>\n",
       "    </thead>\n",
       "    <tbody>\n",
       "        <tr>\n",
       "            <td>1</td>\n",
       "            <td>1225.0</td>\n",
       "        </tr>\n",
       "        <tr>\n",
       "            <td>2</td>\n",
       "            <td>2400.0</td>\n",
       "        </tr>\n",
       "        <tr>\n",
       "            <td>3</td>\n",
       "            <td>11.0</td>\n",
       "        </tr>\n",
       "    </tbody>\n",
       "</table>"
      ],
      "text/plain": [
       "[(1, 1225.0), (2, 2400.0), (3, 11.0)]"
      ]
     },
     "execution_count": 14,
     "metadata": {},
     "output_type": "execute_result"
    }
   ],
   "source": [
    "%%sql\n",
    "-- 1 with CTE\n",
    "WITH customer_totals AS (\n",
    "    SELECT customer_id, SUM(total) AS total_spent FROM orders GROUP BY customer_id\n",
    "    ) \n",
    "SELECT * FROM customer_totals;"
   ]
  },
  {
   "cell_type": "code",
   "execution_count": 6,
   "id": "023b19a2",
   "metadata": {},
   "outputs": [
    {
     "name": "stdout",
     "output_type": "stream",
     "text": [
      " * sqlite:///practice.db\n",
      "Done.\n"
     ]
    },
    {
     "data": {
      "text/html": [
       "<table>\n",
       "    <thead>\n",
       "        <tr>\n",
       "            <th>x</th>\n",
       "        </tr>\n",
       "    </thead>\n",
       "    <tbody>\n",
       "        <tr>\n",
       "            <td>1</td>\n",
       "        </tr>\n",
       "        <tr>\n",
       "            <td>2</td>\n",
       "        </tr>\n",
       "        <tr>\n",
       "            <td>3</td>\n",
       "        </tr>\n",
       "        <tr>\n",
       "            <td>4</td>\n",
       "        </tr>\n",
       "        <tr>\n",
       "            <td>5</td>\n",
       "        </tr>\n",
       "        <tr>\n",
       "            <td>6</td>\n",
       "        </tr>\n",
       "        <tr>\n",
       "            <td>7</td>\n",
       "        </tr>\n",
       "        <tr>\n",
       "            <td>8</td>\n",
       "        </tr>\n",
       "        <tr>\n",
       "            <td>9</td>\n",
       "        </tr>\n",
       "        <tr>\n",
       "            <td>10</td>\n",
       "        </tr>\n",
       "    </tbody>\n",
       "</table>"
      ],
      "text/plain": [
       "[(1,), (2,), (3,), (4,), (5,), (6,), (7,), (8,), (9,), (10,)]"
      ]
     },
     "execution_count": 6,
     "metadata": {},
     "output_type": "execute_result"
    }
   ],
   "source": [
    "%%sql\n",
    "\n",
    "WITH RECURSIVE seq(x) AS (\n",
    "    SELECT 1\n",
    "UNION ALL\n",
    "    SELECT x+1 FROM seq WHERE x <10\n",
    "  )\n",
    "SELECT * FROM seq;"
   ]
  },
  {
   "cell_type": "code",
   "execution_count": null,
   "id": "cfba861d",
   "metadata": {},
   "outputs": [],
   "source": []
  }
 ],
 "metadata": {
  "kernelspec": {
   "display_name": "learn-sql--afPZWrd-py3.11",
   "language": "python",
   "name": "python3"
  },
  "language_info": {
   "codemirror_mode": {
    "name": "ipython",
    "version": 3
   },
   "file_extension": ".py",
   "mimetype": "text/x-python",
   "name": "python",
   "nbconvert_exporter": "python",
   "pygments_lexer": "ipython3",
   "version": "3.11.4"
  }
 },
 "nbformat": 4,
 "nbformat_minor": 5
}
