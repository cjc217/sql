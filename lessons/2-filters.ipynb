{
 "cells": [
  {
   "cell_type": "code",
   "execution_count": 1,
   "id": "fb9a54b5",
   "metadata": {},
   "outputs": [],
   "source": [
    "%reload_ext sql\n",
    "%config SqlMagic.style = '_DEPRECATED_DEFAULT'\n",
    "%sql sqlite:///practice.db"
   ]
  },
  {
   "cell_type": "markdown",
   "id": "047c2a66",
   "metadata": {},
   "source": [
    "# This is for where clauses and filtering"
   ]
  },
  {
   "cell_type": "code",
   "execution_count": 2,
   "id": "dee41307",
   "metadata": {},
   "outputs": [],
   "source": [
    "# Syntax\n",
    "\n",
    "# SELECT ...\n",
    "#   FROM ...\n",
    "#   WHERE condition;\n",
    "\n",
    "# Operators: =, != or <>, <, >, <=, >=, BETWEEN, LIKE, IN, IS NULL"
   ]
  },
  {
   "cell_type": "code",
   "execution_count": 5,
   "id": "cb6b14cb",
   "metadata": {},
   "outputs": [
    {
     "name": "stdout",
     "output_type": "stream",
     "text": [
      " * sqlite:///practice.db\n",
      "Done.\n"
     ]
    },
    {
     "data": {
      "text/html": [
       "<table>\n",
       "    <thead>\n",
       "        <tr>\n",
       "            <th>id</th>\n",
       "            <th>name</th>\n",
       "            <th>dept_id</th>\n",
       "            <th>salary</th>\n",
       "            <th>hire_date</th>\n",
       "        </tr>\n",
       "    </thead>\n",
       "    <tbody>\n",
       "        <tr>\n",
       "            <td>1</td>\n",
       "            <td>Alice</td>\n",
       "            <td>1</td>\n",
       "            <td>90000</td>\n",
       "            <td>2018-03-21</td>\n",
       "        </tr>\n",
       "        <tr>\n",
       "            <td>2</td>\n",
       "            <td>Bob</td>\n",
       "            <td>1</td>\n",
       "            <td>80000</td>\n",
       "            <td>2019-07-15</td>\n",
       "        </tr>\n",
       "        <tr>\n",
       "            <td>3</td>\n",
       "            <td>Charlie</td>\n",
       "            <td>2</td>\n",
       "            <td>65000</td>\n",
       "            <td>2020-01-10</td>\n",
       "        </tr>\n",
       "        <tr>\n",
       "            <td>4</td>\n",
       "            <td>Dana</td>\n",
       "            <td>3</td>\n",
       "            <td>70000</td>\n",
       "            <td>2017-09-05</td>\n",
       "        </tr>\n",
       "        <tr>\n",
       "            <td>5</td>\n",
       "            <td>Eve</td>\n",
       "            <td>None</td>\n",
       "            <td>72000</td>\n",
       "            <td>2021-11-23</td>\n",
       "        </tr>\n",
       "    </tbody>\n",
       "</table>"
      ],
      "text/plain": [
       "[(1, 'Alice', 1, 90000, '2018-03-21'),\n",
       " (2, 'Bob', 1, 80000, '2019-07-15'),\n",
       " (3, 'Charlie', 2, 65000, '2020-01-10'),\n",
       " (4, 'Dana', 3, 70000, '2017-09-05'),\n",
       " (5, 'Eve', None, 72000, '2021-11-23')]"
      ]
     },
     "execution_count": 5,
     "metadata": {},
     "output_type": "execute_result"
    }
   ],
   "source": [
    "%%sql\n",
    "\n",
    "-- Filter for employees with salary more than 7000\n",
    "\n",
    "SELECT * FROM employees WHERE salary > 7000;"
   ]
  },
  {
   "cell_type": "code",
   "execution_count": 6,
   "id": "572f57ae",
   "metadata": {},
   "outputs": [
    {
     "name": "stdout",
     "output_type": "stream",
     "text": [
      " * sqlite:///practice.db\n",
      "Done.\n"
     ]
    },
    {
     "data": {
      "text/html": [
       "<table>\n",
       "    <thead>\n",
       "        <tr>\n",
       "            <th>id</th>\n",
       "            <th>name</th>\n",
       "            <th>city</th>\n",
       "        </tr>\n",
       "    </thead>\n",
       "    <tbody>\n",
       "        <tr>\n",
       "            <td>1</td>\n",
       "            <td>Acme Corp</td>\n",
       "            <td>London</td>\n",
       "        </tr>\n",
       "        <tr>\n",
       "            <td>3</td>\n",
       "            <td>Cafe 123</td>\n",
       "            <td>Paris</td>\n",
       "        </tr>\n",
       "    </tbody>\n",
       "</table>"
      ],
      "text/plain": [
       "[(1, 'Acme Corp', 'London'), (3, 'Cafe 123', 'Paris')]"
      ]
     },
     "execution_count": 6,
     "metadata": {},
     "output_type": "execute_result"
    }
   ],
   "source": [
    "%%sql\n",
    "\n",
    "-- Filter for customers in London or Paris\n",
    "\n",
    "SELECT * FROM customers WHERE city IN ('London', 'Paris');"
   ]
  },
  {
   "cell_type": "code",
   "execution_count": 7,
   "id": "962ce2f5",
   "metadata": {},
   "outputs": [
    {
     "name": "stdout",
     "output_type": "stream",
     "text": [
      " * sqlite:///practice.db\n",
      "Done.\n"
     ]
    },
    {
     "data": {
      "text/html": [
       "<table>\n",
       "    <thead>\n",
       "        <tr>\n",
       "            <th>id</th>\n",
       "            <th>name</th>\n",
       "            <th>dept_id</th>\n",
       "            <th>salary</th>\n",
       "            <th>hire_date</th>\n",
       "        </tr>\n",
       "    </thead>\n",
       "    <tbody>\n",
       "        <tr>\n",
       "            <td>1</td>\n",
       "            <td>Alice</td>\n",
       "            <td>1</td>\n",
       "            <td>90000</td>\n",
       "            <td>2018-03-21</td>\n",
       "        </tr>\n",
       "        <tr>\n",
       "            <td>3</td>\n",
       "            <td>Charlie</td>\n",
       "            <td>2</td>\n",
       "            <td>65000</td>\n",
       "            <td>2020-01-10</td>\n",
       "        </tr>\n",
       "        <tr>\n",
       "            <td>4</td>\n",
       "            <td>Dana</td>\n",
       "            <td>3</td>\n",
       "            <td>70000</td>\n",
       "            <td>2017-09-05</td>\n",
       "        </tr>\n",
       "    </tbody>\n",
       "</table>"
      ],
      "text/plain": [
       "[(1, 'Alice', 1, 90000, '2018-03-21'),\n",
       " (3, 'Charlie', 2, 65000, '2020-01-10'),\n",
       " (4, 'Dana', 3, 70000, '2017-09-05')]"
      ]
     },
     "execution_count": 7,
     "metadata": {},
     "output_type": "execute_result"
    }
   ],
   "source": [
    "%%sql\n",
    "-- Name contains 'a' (case-sensitive in SQLite by default)\n",
    "  SELECT * FROM employees WHERE name LIKE '%a%';"
   ]
  },
  {
   "cell_type": "code",
   "execution_count": 8,
   "id": "98329023",
   "metadata": {},
   "outputs": [
    {
     "name": "stdout",
     "output_type": "stream",
     "text": [
      " * sqlite:///practice.db\n",
      "Done.\n"
     ]
    },
    {
     "data": {
      "text/html": [
       "<table>\n",
       "    <thead>\n",
       "        <tr>\n",
       "            <th>id</th>\n",
       "            <th>name</th>\n",
       "            <th>dept_id</th>\n",
       "            <th>salary</th>\n",
       "            <th>hire_date</th>\n",
       "        </tr>\n",
       "    </thead>\n",
       "    <tbody>\n",
       "        <tr>\n",
       "            <td>5</td>\n",
       "            <td>Eve</td>\n",
       "            <td>None</td>\n",
       "            <td>72000</td>\n",
       "            <td>2021-11-23</td>\n",
       "        </tr>\n",
       "    </tbody>\n",
       "</table>"
      ],
      "text/plain": [
       "[(5, 'Eve', None, 72000, '2021-11-23')]"
      ]
     },
     "execution_count": 8,
     "metadata": {},
     "output_type": "execute_result"
    }
   ],
   "source": [
    "%%sql\n",
    "-- Employees without departments\n",
    "SELECT * FROM employees WHERE dept_id IS NULL;"
   ]
  },
  {
   "cell_type": "markdown",
   "id": "3fa5c0f9",
   "metadata": {},
   "source": [
    "# Questions"
   ]
  },
  {
   "cell_type": "code",
   "execution_count": null,
   "id": "31c5c516",
   "metadata": {},
   "outputs": [],
   "source": [
    "# Exercises\n",
    "\n",
    "# 1. Find products cheaper than 10.\n",
    "# 2. Find orders after '2023-05-02'.\n",
    "# 3. List employees hired before 2019."
   ]
  },
  {
   "cell_type": "markdown",
   "id": "964e5ad2",
   "metadata": {},
   "source": [
    "# Answers"
   ]
  },
  {
   "cell_type": "code",
   "execution_count": null,
   "id": "6627a372",
   "metadata": {},
   "outputs": [
    {
     "name": "stdout",
     "output_type": "stream",
     "text": [
      " * sqlite:///practice.db\n",
      "Done.\n"
     ]
    },
    {
     "data": {
      "text/html": [
       "<table>\n",
       "    <thead>\n",
       "        <tr>\n",
       "            <th>id</th>\n",
       "            <th>name</th>\n",
       "            <th>category</th>\n",
       "            <th>price</th>\n",
       "        </tr>\n",
       "    </thead>\n",
       "    <tbody>\n",
       "        <tr>\n",
       "            <td>3</td>\n",
       "            <td>Mug</td>\n",
       "            <td>Home</td>\n",
       "            <td>8.5</td>\n",
       "        </tr>\n",
       "        <tr>\n",
       "            <td>4</td>\n",
       "            <td>Notebook</td>\n",
       "            <td>Stationery</td>\n",
       "            <td>3.5</td>\n",
       "        </tr>\n",
       "    </tbody>\n",
       "</table>"
      ],
      "text/plain": [
       "[(3, 'Mug', 'Home', 8.5), (4, 'Notebook', 'Stationery', 3.5)]"
      ]
     },
     "execution_count": 12,
     "metadata": {},
     "output_type": "execute_result"
    }
   ],
   "source": [
    "%%sql\n",
    "-- 1\n",
    "SELECT * FROM products WHERE price < 10;"
   ]
  },
  {
   "cell_type": "code",
   "execution_count": 15,
   "id": "69a80998",
   "metadata": {},
   "outputs": [
    {
     "name": "stdout",
     "output_type": "stream",
     "text": [
      " * sqlite:///practice.db\n",
      "Done.\n"
     ]
    },
    {
     "data": {
      "text/html": [
       "<table>\n",
       "    <thead>\n",
       "        <tr>\n",
       "            <th>id</th>\n",
       "            <th>customer_id</th>\n",
       "            <th>order_date</th>\n",
       "            <th>total</th>\n",
       "        </tr>\n",
       "    </thead>\n",
       "    <tbody>\n",
       "        <tr>\n",
       "            <td>2</td>\n",
       "            <td>3</td>\n",
       "            <td>2023-05-03</td>\n",
       "            <td>11.0</td>\n",
       "        </tr>\n",
       "        <tr>\n",
       "            <td>3</td>\n",
       "            <td>2</td>\n",
       "            <td>2023-06-15</td>\n",
       "            <td>2400.0</td>\n",
       "        </tr>\n",
       "    </tbody>\n",
       "</table>"
      ],
      "text/plain": [
       "[(2, 3, '2023-05-03', 11.0), (3, 2, '2023-06-15', 2400.0)]"
      ]
     },
     "execution_count": 15,
     "metadata": {},
     "output_type": "execute_result"
    }
   ],
   "source": [
    "%%sql\n",
    "-- 2\n",
    "SELECT * FROM orders WHERE order_date > '2023-05-02';"
   ]
  },
  {
   "cell_type": "code",
   "execution_count": 18,
   "id": "ffe70f0c",
   "metadata": {},
   "outputs": [
    {
     "name": "stdout",
     "output_type": "stream",
     "text": [
      " * sqlite:///practice.db\n",
      "Done.\n"
     ]
    },
    {
     "data": {
      "text/html": [
       "<table>\n",
       "    <thead>\n",
       "        <tr>\n",
       "            <th>id</th>\n",
       "            <th>name</th>\n",
       "            <th>dept_id</th>\n",
       "            <th>salary</th>\n",
       "            <th>hire_date</th>\n",
       "        </tr>\n",
       "    </thead>\n",
       "    <tbody>\n",
       "        <tr>\n",
       "            <td>1</td>\n",
       "            <td>Alice</td>\n",
       "            <td>1</td>\n",
       "            <td>90000</td>\n",
       "            <td>2018-03-21</td>\n",
       "        </tr>\n",
       "        <tr>\n",
       "            <td>4</td>\n",
       "            <td>Dana</td>\n",
       "            <td>3</td>\n",
       "            <td>70000</td>\n",
       "            <td>2017-09-05</td>\n",
       "        </tr>\n",
       "    </tbody>\n",
       "</table>"
      ],
      "text/plain": [
       "[(1, 'Alice', 1, 90000, '2018-03-21'), (4, 'Dana', 3, 70000, '2017-09-05')]"
      ]
     },
     "execution_count": 18,
     "metadata": {},
     "output_type": "execute_result"
    }
   ],
   "source": [
    "%%sql\n",
    "-- 3\n",
    "SELECT * FROM employees WHERE hire_date < '2019%';"
   ]
  },
  {
   "cell_type": "markdown",
   "id": "a2b04759",
   "metadata": {},
   "source": [
    "# Solutions"
   ]
  },
  {
   "cell_type": "code",
   "execution_count": null,
   "id": "fba8fe41",
   "metadata": {},
   "outputs": [],
   "source": [
    "# 1 - SELECT * FROM products WHERE price < 10;\n",
    "# 2 - SELECT * FROM orders WHERE order_date > '2023-05-02';\n",
    "# 3 - SELECT * FROM employees WHERE hire_date < '2019-01-01';"
   ]
  }
 ],
 "metadata": {
  "kernelspec": {
   "display_name": "learn-sql--afPZWrd-py3.11",
   "language": "python",
   "name": "python3"
  },
  "language_info": {
   "codemirror_mode": {
    "name": "ipython",
    "version": 3
   },
   "file_extension": ".py",
   "mimetype": "text/x-python",
   "name": "python",
   "nbconvert_exporter": "python",
   "pygments_lexer": "ipython3",
   "version": "3.11.4"
  }
 },
 "nbformat": 4,
 "nbformat_minor": 5
}
