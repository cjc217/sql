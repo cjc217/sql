{
 "cells": [
  {
   "cell_type": "code",
   "execution_count": 1,
   "id": "d80bd370",
   "metadata": {},
   "outputs": [],
   "source": [
    "%reload_ext sql\n",
    "%config SqlMagic.style = '_DEPRECATED_DEFAULT'\n",
    "%sql sqlite:///practice.db"
   ]
  },
  {
   "cell_type": "markdown",
   "id": "8ab3564c",
   "metadata": {},
   "source": [
    "# This notebook is for SQL joins"
   ]
  },
  {
   "cell_type": "code",
   "execution_count": null,
   "id": "907fd306",
   "metadata": {},
   "outputs": [],
   "source": [
    "# Syntax\n",
    "\n",
    "# SELECT a.col as col_name, b.col as col_name_2\n",
    "#   FROM table_a a\n",
    "#   JOIN table_b b ON a.id_col = b.id_col_2;\n",
    "\n",
    "# Types: INNER JOIN , LEFT JOIN (or LEFT OUTER JOIN ), CROSS JOIN . SQLite does not support RIGHT JOIN or FULL OUTER JOIN natively."
   ]
  },
  {
   "cell_type": "code",
   "execution_count": 4,
   "id": "835fb54b",
   "metadata": {},
   "outputs": [
    {
     "name": "stdout",
     "output_type": "stream",
     "text": [
      " * sqlite:///practice.db\n",
      "Done.\n",
      "Done.\n",
      "Done.\n"
     ]
    },
    {
     "data": {
      "text/html": [
       "<table>\n",
       "    <thead>\n",
       "        <tr>\n",
       "            <th>id</th>\n",
       "            <th>customer</th>\n",
       "            <th>total</th>\n",
       "        </tr>\n",
       "    </thead>\n",
       "    <tbody>\n",
       "        <tr>\n",
       "            <td>1</td>\n",
       "            <td>Acme Corp</td>\n",
       "            <td>1225.0</td>\n",
       "        </tr>\n",
       "        <tr>\n",
       "            <td>2</td>\n",
       "            <td>Cafe 123</td>\n",
       "            <td>11.0</td>\n",
       "        </tr>\n",
       "        <tr>\n",
       "            <td>3</td>\n",
       "            <td>Bright Co</td>\n",
       "            <td>2400.0</td>\n",
       "        </tr>\n",
       "    </tbody>\n",
       "</table>"
      ],
      "text/plain": [
       "[(1, 'Acme Corp', 1225.0), (2, 'Cafe 123', 11.0), (3, 'Bright Co', 2400.0)]"
      ]
     },
     "execution_count": 4,
     "metadata": {},
     "output_type": "execute_result"
    }
   ],
   "source": [
    "%%sql\n",
    "-- Examples\n",
    "\n",
    "-- Inner join employees with departments\n",
    "SELECT e.name AS employee, d.name AS dept\n",
    "FROM employees e\n",
    "JOIN departments d ON e.dept_id = d.id;\n",
    "\n",
    "-- Left join: keep all employees, even if dept_id is NULL\n",
    "SELECT e.name, d.name\n",
    "FROM employees e\n",
    "LEFT JOIN departments d ON e.dept_id = d.id;\n",
    "\n",
    "-- Orders with their customer names\n",
    "SELECT o.id, c.name AS customer, o.total\n",
    "FROM orders o\n",
    "JOIN customers c ON o.customer_id = c.id;"
   ]
  },
  {
   "cell_type": "code",
   "execution_count": null,
   "id": "e25b6c45",
   "metadata": {},
   "outputs": [],
   "source": [
    "# Questions \n",
    "\n",
    "# 1. List order id, customer name, and order total for every order.\n",
    "# 2. Show product names and the number of times they were ordered.\n",
    "# 3. Show employees and their department names — include employees with no department."
   ]
  },
  {
   "cell_type": "code",
   "execution_count": 5,
   "id": "40300a10",
   "metadata": {},
   "outputs": [
    {
     "name": "stdout",
     "output_type": "stream",
     "text": [
      " * sqlite:///practice.db\n",
      "Done.\n"
     ]
    },
    {
     "data": {
      "text/html": [
       "<table>\n",
       "    <thead>\n",
       "        <tr>\n",
       "            <th>order_id</th>\n",
       "            <th>customer_name</th>\n",
       "            <th>order_total</th>\n",
       "        </tr>\n",
       "    </thead>\n",
       "    <tbody>\n",
       "        <tr>\n",
       "            <td>1</td>\n",
       "            <td>Acme Corp</td>\n",
       "            <td>1225.0</td>\n",
       "        </tr>\n",
       "        <tr>\n",
       "            <td>2</td>\n",
       "            <td>Cafe 123</td>\n",
       "            <td>11.0</td>\n",
       "        </tr>\n",
       "        <tr>\n",
       "            <td>3</td>\n",
       "            <td>Bright Co</td>\n",
       "            <td>2400.0</td>\n",
       "        </tr>\n",
       "    </tbody>\n",
       "</table>"
      ],
      "text/plain": [
       "[(1, 'Acme Corp', 1225.0), (2, 'Cafe 123', 11.0), (3, 'Bright Co', 2400.0)]"
      ]
     },
     "execution_count": 5,
     "metadata": {},
     "output_type": "execute_result"
    }
   ],
   "source": [
    "%%sql\n",
    "-- Answers\n",
    "\n",
    "-- 1\n",
    "SELECT o.id AS order_id, c.name AS customer_name, o.total AS order_total\n",
    "FROM orders o\n",
    "JOIN customers c ON o.customer_id = c.id;\n"
   ]
  },
  {
   "cell_type": "code",
   "execution_count": 8,
   "id": "5af5e9ea",
   "metadata": {},
   "outputs": [
    {
     "name": "stdout",
     "output_type": "stream",
     "text": [
      " * sqlite:///practice.db\n",
      "Done.\n"
     ]
    },
    {
     "data": {
      "text/html": [
       "<table>\n",
       "    <thead>\n",
       "        <tr>\n",
       "            <th>product_name</th>\n",
       "            <th>order_quantity</th>\n",
       "        </tr>\n",
       "    </thead>\n",
       "    <tbody>\n",
       "        <tr>\n",
       "            <td>Laptop</td>\n",
       "            <td>3</td>\n",
       "        </tr>\n",
       "        <tr>\n",
       "            <td>Mouse</td>\n",
       "            <td>1</td>\n",
       "        </tr>\n",
       "        <tr>\n",
       "            <td>Mug</td>\n",
       "            <td>1</td>\n",
       "        </tr>\n",
       "    </tbody>\n",
       "</table>"
      ],
      "text/plain": [
       "[('Laptop', 3), ('Mouse', 1), ('Mug', 1)]"
      ]
     },
     "execution_count": 8,
     "metadata": {},
     "output_type": "execute_result"
    }
   ],
   "source": [
    "%%sql\n",
    "-- 2\n",
    "SELECT p.name AS product_name, SUM(o.quantity) AS order_quantity\n",
    "FROM products p\n",
    "JOIN order_items o ON p.id = o.product_id\n",
    "GROUP BY product_name;"
   ]
  },
  {
   "cell_type": "code",
   "execution_count": null,
   "id": "c5c9fb15",
   "metadata": {},
   "outputs": [
    {
     "name": "stdout",
     "output_type": "stream",
     "text": [
      " * sqlite:///practice.db\n",
      "Done.\n"
     ]
    },
    {
     "data": {
      "text/html": [
       "<table>\n",
       "    <thead>\n",
       "        <tr>\n",
       "            <th>employee_name</th>\n",
       "            <th>department_name</th>\n",
       "        </tr>\n",
       "    </thead>\n",
       "    <tbody>\n",
       "        <tr>\n",
       "            <td>Alice</td>\n",
       "            <td>Engineering</td>\n",
       "        </tr>\n",
       "        <tr>\n",
       "            <td>Bob</td>\n",
       "            <td>Engineering</td>\n",
       "        </tr>\n",
       "        <tr>\n",
       "            <td>Charlie</td>\n",
       "            <td>Sales</td>\n",
       "        </tr>\n",
       "        <tr>\n",
       "            <td>Dana</td>\n",
       "            <td>HR</td>\n",
       "        </tr>\n",
       "        <tr>\n",
       "            <td>Eve</td>\n",
       "            <td>None</td>\n",
       "        </tr>\n",
       "    </tbody>\n",
       "</table>"
      ],
      "text/plain": [
       "[('Alice', 'Engineering'),\n",
       " ('Bob', 'Engineering'),\n",
       " ('Charlie', 'Sales'),\n",
       " ('Dana', 'HR'),\n",
       " ('Eve', None)]"
      ]
     },
     "execution_count": 9,
     "metadata": {},
     "output_type": "execute_result"
    }
   ],
   "source": [
    "%%sql\n",
    "-- 3\n",
    "SELECT e.name AS employee_name, d.name AS department_name\n",
    "FROM employees e\n",
    "LEFT JOIN departments d\n",
    "ON e.dept_id = d.id;"
   ]
  },
  {
   "cell_type": "code",
   "execution_count": null,
   "id": "730e2b14",
   "metadata": {},
   "outputs": [],
   "source": [
    "# Solutions\n",
    "\n",
    "# SELECT o.id, c.name AS customer, o.total FROM orders o JOIN customers c ON\n",
    "# o.customer_id = c.id;\n",
    "\n",
    "#  SELECT p.name, COUNT(oi.id) AS times_ordered FROM products p JOIN\n",
    "# order_items oi ON p.id = oi.product_id GROUP BY p.id;\n",
    "\n",
    "#  SELECT e.name, d.name AS department FROM employees e LEFT JOIN departments\n",
    "# d ON e.dept_id = d.id;"
   ]
  }
 ],
 "metadata": {
  "kernelspec": {
   "display_name": "learn-sql--afPZWrd-py3.11",
   "language": "python",
   "name": "python3"
  },
  "language_info": {
   "codemirror_mode": {
    "name": "ipython",
    "version": 3
   },
   "file_extension": ".py",
   "mimetype": "text/x-python",
   "name": "python",
   "nbconvert_exporter": "python",
   "pygments_lexer": "ipython3",
   "version": "3.11.4"
  }
 },
 "nbformat": 4,
 "nbformat_minor": 5
}
