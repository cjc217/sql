{
 "cells": [
  {
   "cell_type": "code",
   "execution_count": 1,
   "id": "6b6823c1",
   "metadata": {},
   "outputs": [],
   "source": [
    "%reload_ext sql\n",
    "%config SqlMagic.style = '_DEPRECATED_DEFAULT'\n",
    "%sql sqlite:///practice.db"
   ]
  },
  {
   "cell_type": "markdown",
   "id": "ebf66d47",
   "metadata": {},
   "source": [
    "# Order by, limits and offsets"
   ]
  },
  {
   "cell_type": "code",
   "execution_count": null,
   "id": "051ec1f1",
   "metadata": {},
   "outputs": [],
   "source": [
    "# Syntax\n",
    "\n",
    "# SELECT ...\n",
    "#   FROM ...\n",
    "#   ORDER BY ...\n",
    "#   ASC\n",
    "#   LIMIT ...;\n",
    "\n",
    "# Operators: =, != or <>, <, >, <=, >=, BETWEEN, LIKE, IN, IS NULL"
   ]
  },
  {
   "cell_type": "code",
   "execution_count": 5,
   "id": "877cef5b",
   "metadata": {},
   "outputs": [
    {
     "name": "stdout",
     "output_type": "stream",
     "text": [
      " * sqlite:///practice.db\n",
      "Done.\n"
     ]
    },
    {
     "data": {
      "text/html": [
       "<table>\n",
       "    <thead>\n",
       "        <tr>\n",
       "            <th>id</th>\n",
       "            <th>name</th>\n",
       "            <th>dept_id</th>\n",
       "            <th>salary</th>\n",
       "            <th>hire_date</th>\n",
       "        </tr>\n",
       "    </thead>\n",
       "    <tbody>\n",
       "        <tr>\n",
       "            <td>4</td>\n",
       "            <td>Dana</td>\n",
       "            <td>3</td>\n",
       "            <td>70000</td>\n",
       "            <td>2017-09-05</td>\n",
       "        </tr>\n",
       "        <tr>\n",
       "            <td>1</td>\n",
       "            <td>Alice</td>\n",
       "            <td>1</td>\n",
       "            <td>90000</td>\n",
       "            <td>2018-03-21</td>\n",
       "        </tr>\n",
       "        <tr>\n",
       "            <td>2</td>\n",
       "            <td>Bob</td>\n",
       "            <td>1</td>\n",
       "            <td>80000</td>\n",
       "            <td>2019-07-15</td>\n",
       "        </tr>\n",
       "    </tbody>\n",
       "</table>"
      ],
      "text/plain": [
       "[(4, 'Dana', 3, 70000, '2017-09-05'),\n",
       " (1, 'Alice', 1, 90000, '2018-03-21'),\n",
       " (2, 'Bob', 1, 80000, '2019-07-15')]"
      ]
     },
     "execution_count": 5,
     "metadata": {},
     "output_type": "execute_result"
    }
   ],
   "source": [
    "%%sql\n",
    "\n",
    "-- Show longest serving 3 employees\n",
    "\n",
    "SELECT * FROM employees ORDER BY hire_date ASC LIMIT 3;"
   ]
  },
  {
   "cell_type": "code",
   "execution_count": 8,
   "id": "7998af56",
   "metadata": {},
   "outputs": [
    {
     "name": "stdout",
     "output_type": "stream",
     "text": [
      " * sqlite:///practice.db\n",
      "Done.\n"
     ]
    },
    {
     "data": {
      "text/html": [
       "<table>\n",
       "    <thead>\n",
       "        <tr>\n",
       "            <th>id</th>\n",
       "            <th>name</th>\n",
       "            <th>dept_id</th>\n",
       "            <th>salary</th>\n",
       "            <th>hire_date</th>\n",
       "        </tr>\n",
       "    </thead>\n",
       "    <tbody>\n",
       "        <tr>\n",
       "            <td>2</td>\n",
       "            <td>Bob</td>\n",
       "            <td>1</td>\n",
       "            <td>80000</td>\n",
       "            <td>2019-07-15</td>\n",
       "        </tr>\n",
       "        <tr>\n",
       "            <td>5</td>\n",
       "            <td>Eve</td>\n",
       "            <td>None</td>\n",
       "            <td>72000</td>\n",
       "            <td>2021-11-23</td>\n",
       "        </tr>\n",
       "        <tr>\n",
       "            <td>4</td>\n",
       "            <td>Dana</td>\n",
       "            <td>3</td>\n",
       "            <td>70000</td>\n",
       "            <td>2017-09-05</td>\n",
       "        </tr>\n",
       "    </tbody>\n",
       "</table>"
      ],
      "text/plain": [
       "[(2, 'Bob', 1, 80000, '2019-07-15'),\n",
       " (5, 'Eve', None, 72000, '2021-11-23'),\n",
       " (4, 'Dana', 3, 70000, '2017-09-05')]"
      ]
     },
     "execution_count": 8,
     "metadata": {},
     "output_type": "execute_result"
    }
   ],
   "source": [
    "%%sql\n",
    "\n",
    "-- Show 2nd,3rd and 4th highest paid 3 employees\n",
    "\n",
    "SELECT * FROM employees ORDER BY salary DESC LIMIT 3 OFFSET 1;"
   ]
  },
  {
   "cell_type": "markdown",
   "id": "5e2841a1",
   "metadata": {},
   "source": [
    "# Questions"
   ]
  },
  {
   "cell_type": "code",
   "execution_count": 10,
   "id": "3d0a7f39",
   "metadata": {},
   "outputs": [],
   "source": [
    "# Exercises\n",
    "\n",
    "# 1. Show top 2 highest paid employees (name and salary).\n",
    "# 2. List products ordered by price ascending.\n",
    "# 3. Show customers ordered by name, but skip the first one (use OFFSET )."
   ]
  },
  {
   "cell_type": "markdown",
   "id": "bf285b73",
   "metadata": {},
   "source": [
    "# Answers"
   ]
  },
  {
   "cell_type": "code",
   "execution_count": 13,
   "id": "13dfd014",
   "metadata": {},
   "outputs": [
    {
     "name": "stdout",
     "output_type": "stream",
     "text": [
      " * sqlite:///practice.db\n",
      "Done.\n"
     ]
    },
    {
     "data": {
      "text/html": [
       "<table>\n",
       "    <thead>\n",
       "        <tr>\n",
       "            <th>name</th>\n",
       "            <th>salary</th>\n",
       "        </tr>\n",
       "    </thead>\n",
       "    <tbody>\n",
       "        <tr>\n",
       "            <td>Alice</td>\n",
       "            <td>90000</td>\n",
       "        </tr>\n",
       "        <tr>\n",
       "            <td>Bob</td>\n",
       "            <td>80000</td>\n",
       "        </tr>\n",
       "    </tbody>\n",
       "</table>"
      ],
      "text/plain": [
       "[('Alice', 90000), ('Bob', 80000)]"
      ]
     },
     "execution_count": 13,
     "metadata": {},
     "output_type": "execute_result"
    }
   ],
   "source": [
    "%%sql\n",
    "-- 1\n",
    "SELECT name, salary FROM employees ORDER BY salary DESC LIMIT 2;"
   ]
  },
  {
   "cell_type": "code",
   "execution_count": 15,
   "id": "031b63c1",
   "metadata": {},
   "outputs": [
    {
     "name": "stdout",
     "output_type": "stream",
     "text": [
      " * sqlite:///practice.db\n",
      "Done.\n"
     ]
    },
    {
     "data": {
      "text/html": [
       "<table>\n",
       "    <thead>\n",
       "        <tr>\n",
       "            <th>id</th>\n",
       "            <th>name</th>\n",
       "            <th>category</th>\n",
       "            <th>price</th>\n",
       "        </tr>\n",
       "    </thead>\n",
       "    <tbody>\n",
       "        <tr>\n",
       "            <td>4</td>\n",
       "            <td>Notebook</td>\n",
       "            <td>Stationery</td>\n",
       "            <td>3.5</td>\n",
       "        </tr>\n",
       "        <tr>\n",
       "            <td>3</td>\n",
       "            <td>Mug</td>\n",
       "            <td>Home</td>\n",
       "            <td>8.5</td>\n",
       "        </tr>\n",
       "        <tr>\n",
       "            <td>2</td>\n",
       "            <td>Mouse</td>\n",
       "            <td>Electronics</td>\n",
       "            <td>25.0</td>\n",
       "        </tr>\n",
       "        <tr>\n",
       "            <td>1</td>\n",
       "            <td>Laptop</td>\n",
       "            <td>Electronics</td>\n",
       "            <td>1200.0</td>\n",
       "        </tr>\n",
       "    </tbody>\n",
       "</table>"
      ],
      "text/plain": [
       "[(4, 'Notebook', 'Stationery', 3.5),\n",
       " (3, 'Mug', 'Home', 8.5),\n",
       " (2, 'Mouse', 'Electronics', 25.0),\n",
       " (1, 'Laptop', 'Electronics', 1200.0)]"
      ]
     },
     "execution_count": 15,
     "metadata": {},
     "output_type": "execute_result"
    }
   ],
   "source": [
    "%%sql\n",
    "-- 2 \n",
    "SELECT * FROM products ORDER BY price ASC;"
   ]
  },
  {
   "cell_type": "code",
   "execution_count": 18,
   "id": "9819e2cc",
   "metadata": {},
   "outputs": [
    {
     "name": "stdout",
     "output_type": "stream",
     "text": [
      " * sqlite:///practice.db\n",
      "Done.\n"
     ]
    },
    {
     "data": {
      "text/html": [
       "<table>\n",
       "    <thead>\n",
       "        <tr>\n",
       "            <th>id</th>\n",
       "            <th>name</th>\n",
       "            <th>city</th>\n",
       "        </tr>\n",
       "    </thead>\n",
       "    <tbody>\n",
       "        <tr>\n",
       "            <td>1</td>\n",
       "            <td>Acme Corp</td>\n",
       "            <td>London</td>\n",
       "        </tr>\n",
       "        <tr>\n",
       "            <td>2</td>\n",
       "            <td>Bright Co</td>\n",
       "            <td>Berlin</td>\n",
       "        </tr>\n",
       "        <tr>\n",
       "            <td>3</td>\n",
       "            <td>Cafe 123</td>\n",
       "            <td>Paris</td>\n",
       "        </tr>\n",
       "    </tbody>\n",
       "</table>"
      ],
      "text/plain": [
       "[(1, 'Acme Corp', 'London'),\n",
       " (2, 'Bright Co', 'Berlin'),\n",
       " (3, 'Cafe 123', 'Paris')]"
      ]
     },
     "execution_count": 18,
     "metadata": {},
     "output_type": "execute_result"
    }
   ],
   "source": [
    "%%sql\n",
    "-- 3\n",
    "SELECT * FROM customers;"
   ]
  },
  {
   "cell_type": "code",
   "execution_count": 24,
   "id": "0ba57ca7",
   "metadata": {},
   "outputs": [
    {
     "name": "stdout",
     "output_type": "stream",
     "text": [
      " * sqlite:///practice.db\n",
      "Done.\n"
     ]
    },
    {
     "data": {
      "text/html": [
       "<table>\n",
       "    <thead>\n",
       "        <tr>\n",
       "            <th>id</th>\n",
       "            <th>name</th>\n",
       "            <th>city</th>\n",
       "        </tr>\n",
       "    </thead>\n",
       "    <tbody>\n",
       "        <tr>\n",
       "            <td>2</td>\n",
       "            <td>Bright Co</td>\n",
       "            <td>Berlin</td>\n",
       "        </tr>\n",
       "        <tr>\n",
       "            <td>3</td>\n",
       "            <td>Cafe 123</td>\n",
       "            <td>Paris</td>\n",
       "        </tr>\n",
       "    </tbody>\n",
       "</table>"
      ],
      "text/plain": [
       "[(2, 'Bright Co', 'Berlin'), (3, 'Cafe 123', 'Paris')]"
      ]
     },
     "execution_count": 24,
     "metadata": {},
     "output_type": "execute_result"
    }
   ],
   "source": [
    "%%sql\n",
    "-- 3\n",
    "SELECT * FROM customers ORDER BY name LIMIT 3 OFFSET 1;"
   ]
  },
  {
   "cell_type": "markdown",
   "id": "91b058f7",
   "metadata": {},
   "source": [
    "# Solutions"
   ]
  },
  {
   "cell_type": "code",
   "execution_count": null,
   "id": "b4a87d86",
   "metadata": {},
   "outputs": [],
   "source": [
    "# 1 - SELECT name, salary FROM employees ORDER BY salary DESC LIMIT 2;\n",
    "# 2 - SELECT name, price FROM products ORDER BY price ASC;\n",
    "# 3 - SELECT name, city FROM customers ORDER BY name ASC LIMIT 100 OFFSET 1;"
   ]
  }
 ],
 "metadata": {
  "kernelspec": {
   "display_name": "learn-sql--afPZWrd-py3.11",
   "language": "python",
   "name": "python3"
  },
  "language_info": {
   "codemirror_mode": {
    "name": "ipython",
    "version": 3
   },
   "file_extension": ".py",
   "mimetype": "text/x-python",
   "name": "python",
   "nbconvert_exporter": "python",
   "pygments_lexer": "ipython3",
   "version": "3.11.4"
  }
 },
 "nbformat": 4,
 "nbformat_minor": 5
}
