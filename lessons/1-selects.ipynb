{
 "cells": [
  {
   "cell_type": "code",
   "execution_count": 12,
   "id": "c45809ce",
   "metadata": {},
   "outputs": [
    {
     "name": "stdout",
     "output_type": "stream",
     "text": [
      "The sql extension is already loaded. To reload it, use:\n",
      "  %reload_ext sql\n"
     ]
    }
   ],
   "source": [
    "%load_ext sql\n",
    "%sql sqlite:///practice.db"
   ]
  },
  {
   "cell_type": "code",
   "execution_count": 9,
   "id": "09c45819",
   "metadata": {},
   "outputs": [],
   "source": [
    "%reload_ext sql\n",
    "%config SqlMagic.style = '_DEPRECATED_DEFAULT'\n",
    "%sql sqlite:///practice.db"
   ]
  },
  {
   "cell_type": "markdown",
   "id": "bc3d132c",
   "metadata": {},
   "source": [
    "# This is for how to use **SELECT** statements in SQL."
   ]
  },
  {
   "cell_type": "code",
   "execution_count": null,
   "id": "8100e403",
   "metadata": {},
   "outputs": [],
   "source": [
    "# Sytax:\n",
    "\n",
    "# SELECT column1, column2\n",
    "# FROM table_name;"
   ]
  },
  {
   "cell_type": "code",
   "execution_count": null,
   "id": "f7c7eac7",
   "metadata": {},
   "outputs": [
    {
     "name": "stdout",
     "output_type": "stream",
     "text": [
      " * sqlite:///practice.db\n",
      "Done.\n"
     ]
    },
    {
     "data": {
      "text/html": [
       "<table>\n",
       "    <thead>\n",
       "        <tr>\n",
       "            <th>id</th>\n",
       "            <th>name</th>\n",
       "            <th>dept_id</th>\n",
       "            <th>salary</th>\n",
       "            <th>hire_date</th>\n",
       "        </tr>\n",
       "    </thead>\n",
       "    <tbody>\n",
       "        <tr>\n",
       "            <td>1</td>\n",
       "            <td>Alice</td>\n",
       "            <td>1</td>\n",
       "            <td>90000</td>\n",
       "            <td>2018-03-21</td>\n",
       "        </tr>\n",
       "        <tr>\n",
       "            <td>2</td>\n",
       "            <td>Bob</td>\n",
       "            <td>1</td>\n",
       "            <td>80000</td>\n",
       "            <td>2019-07-15</td>\n",
       "        </tr>\n",
       "        <tr>\n",
       "            <td>3</td>\n",
       "            <td>Charlie</td>\n",
       "            <td>2</td>\n",
       "            <td>65000</td>\n",
       "            <td>2020-01-10</td>\n",
       "        </tr>\n",
       "        <tr>\n",
       "            <td>4</td>\n",
       "            <td>Dana</td>\n",
       "            <td>3</td>\n",
       "            <td>70000</td>\n",
       "            <td>2017-09-05</td>\n",
       "        </tr>\n",
       "        <tr>\n",
       "            <td>5</td>\n",
       "            <td>Eve</td>\n",
       "            <td>None</td>\n",
       "            <td>72000</td>\n",
       "            <td>2021-11-23</td>\n",
       "        </tr>\n",
       "    </tbody>\n",
       "</table>"
      ],
      "text/plain": [
       "[(1, 'Alice', 1, 90000, '2018-03-21'),\n",
       " (2, 'Bob', 1, 80000, '2019-07-15'),\n",
       " (3, 'Charlie', 2, 65000, '2020-01-10'),\n",
       " (4, 'Dana', 3, 70000, '2017-09-05'),\n",
       " (5, 'Eve', None, 72000, '2021-11-23')]"
      ]
     },
     "execution_count": 14,
     "metadata": {},
     "output_type": "execute_result"
    }
   ],
   "source": [
    "%%sql\n",
    "-- All employees\n",
    "SELECT * FROM employees;"
   ]
  },
  {
   "cell_type": "code",
   "execution_count": 16,
   "id": "f7a997d6",
   "metadata": {},
   "outputs": [
    {
     "name": "stdout",
     "output_type": "stream",
     "text": [
      " * sqlite:///practice.db\n",
      "Done.\n"
     ]
    },
    {
     "data": {
      "text/html": [
       "<table>\n",
       "    <thead>\n",
       "        <tr>\n",
       "            <th>name</th>\n",
       "            <th>salary</th>\n",
       "        </tr>\n",
       "    </thead>\n",
       "    <tbody>\n",
       "        <tr>\n",
       "            <td>Alice</td>\n",
       "            <td>90000</td>\n",
       "        </tr>\n",
       "        <tr>\n",
       "            <td>Bob</td>\n",
       "            <td>80000</td>\n",
       "        </tr>\n",
       "        <tr>\n",
       "            <td>Charlie</td>\n",
       "            <td>65000</td>\n",
       "        </tr>\n",
       "        <tr>\n",
       "            <td>Dana</td>\n",
       "            <td>70000</td>\n",
       "        </tr>\n",
       "        <tr>\n",
       "            <td>Eve</td>\n",
       "            <td>72000</td>\n",
       "        </tr>\n",
       "    </tbody>\n",
       "</table>"
      ],
      "text/plain": [
       "[('Alice', 90000),\n",
       " ('Bob', 80000),\n",
       " ('Charlie', 65000),\n",
       " ('Dana', 70000),\n",
       " ('Eve', 72000)]"
      ]
     },
     "execution_count": 16,
     "metadata": {},
     "output_type": "execute_result"
    }
   ],
   "source": [
    "%%sql\n",
    "-- Just names and salaries of employees\n",
    "SELECT name, salary from employees;"
   ]
  },
  {
   "cell_type": "code",
   "execution_count": 23,
   "id": "4891ff5a",
   "metadata": {},
   "outputs": [
    {
     "name": "stdout",
     "output_type": "stream",
     "text": [
      " * sqlite:///practice.db\n",
      "Done.\n"
     ]
    },
    {
     "data": {
      "text/html": [
       "<table>\n",
       "    <thead>\n",
       "        <tr>\n",
       "            <th>employee_name</th>\n",
       "            <th>pay</th>\n",
       "        </tr>\n",
       "    </thead>\n",
       "    <tbody>\n",
       "        <tr>\n",
       "            <td>Alice</td>\n",
       "            <td>90000</td>\n",
       "        </tr>\n",
       "        <tr>\n",
       "            <td>Bob</td>\n",
       "            <td>80000</td>\n",
       "        </tr>\n",
       "        <tr>\n",
       "            <td>Charlie</td>\n",
       "            <td>65000</td>\n",
       "        </tr>\n",
       "        <tr>\n",
       "            <td>Dana</td>\n",
       "            <td>70000</td>\n",
       "        </tr>\n",
       "        <tr>\n",
       "            <td>Eve</td>\n",
       "            <td>72000</td>\n",
       "        </tr>\n",
       "    </tbody>\n",
       "</table>"
      ],
      "text/plain": [
       "[('Alice', 90000),\n",
       " ('Bob', 80000),\n",
       " ('Charlie', 65000),\n",
       " ('Dana', 70000),\n",
       " ('Eve', 72000)]"
      ]
     },
     "execution_count": 23,
     "metadata": {},
     "output_type": "execute_result"
    }
   ],
   "source": [
    "%%sql\n",
    "-- Use an alias\n",
    "SELECT name as employee_name, salary as pay from employees;"
   ]
  },
  {
   "cell_type": "code",
   "execution_count": null,
   "id": "11ffa034",
   "metadata": {},
   "outputs": [],
   "source": [
    "# Exercises:\n",
    "\n",
    "# 1. Select all product names and prices. \n",
    "# 2. List all customers' names and cities. \n",
    "# 3. Select distinct department ids from employees."
   ]
  },
  {
   "cell_type": "code",
   "execution_count": 33,
   "id": "590947c2",
   "metadata": {},
   "outputs": [
    {
     "name": "stdout",
     "output_type": "stream",
     "text": [
      " * sqlite:///practice.db\n",
      "Done.\n"
     ]
    },
    {
     "data": {
      "text/html": [
       "<table>\n",
       "    <thead>\n",
       "        <tr>\n",
       "            <th>id</th>\n",
       "            <th>name</th>\n",
       "            <th>category</th>\n",
       "            <th>price</th>\n",
       "        </tr>\n",
       "    </thead>\n",
       "    <tbody>\n",
       "        <tr>\n",
       "            <td>1</td>\n",
       "            <td>Laptop</td>\n",
       "            <td>Electronics</td>\n",
       "            <td>1200.0</td>\n",
       "        </tr>\n",
       "        <tr>\n",
       "            <td>2</td>\n",
       "            <td>Mouse</td>\n",
       "            <td>Electronics</td>\n",
       "            <td>25.0</td>\n",
       "        </tr>\n",
       "        <tr>\n",
       "            <td>3</td>\n",
       "            <td>Mug</td>\n",
       "            <td>Home</td>\n",
       "            <td>8.5</td>\n",
       "        </tr>\n",
       "        <tr>\n",
       "            <td>4</td>\n",
       "            <td>Notebook</td>\n",
       "            <td>Stationery</td>\n",
       "            <td>3.5</td>\n",
       "        </tr>\n",
       "    </tbody>\n",
       "</table>"
      ],
      "text/plain": [
       "[(1, 'Laptop', 'Electronics', 1200.0),\n",
       " (2, 'Mouse', 'Electronics', 25.0),\n",
       " (3, 'Mug', 'Home', 8.5),\n",
       " (4, 'Notebook', 'Stationery', 3.5)]"
      ]
     },
     "execution_count": 33,
     "metadata": {},
     "output_type": "execute_result"
    }
   ],
   "source": [
    "%%sql\n",
    "-- first show table\n",
    "SELECT * FROM products;"
   ]
  },
  {
   "cell_type": "code",
   "execution_count": 34,
   "id": "8830c70e",
   "metadata": {},
   "outputs": [
    {
     "name": "stdout",
     "output_type": "stream",
     "text": [
      " * sqlite:///practice.db\n",
      "Done.\n"
     ]
    },
    {
     "data": {
      "text/html": [
       "<table>\n",
       "    <thead>\n",
       "        <tr>\n",
       "            <th>id</th>\n",
       "            <th>name</th>\n",
       "            <th>city</th>\n",
       "        </tr>\n",
       "    </thead>\n",
       "    <tbody>\n",
       "        <tr>\n",
       "            <td>1</td>\n",
       "            <td>Acme Corp</td>\n",
       "            <td>London</td>\n",
       "        </tr>\n",
       "        <tr>\n",
       "            <td>2</td>\n",
       "            <td>Bright Co</td>\n",
       "            <td>Berlin</td>\n",
       "        </tr>\n",
       "        <tr>\n",
       "            <td>3</td>\n",
       "            <td>Cafe 123</td>\n",
       "            <td>Paris</td>\n",
       "        </tr>\n",
       "    </tbody>\n",
       "</table>"
      ],
      "text/plain": [
       "[(1, 'Acme Corp', 'London'),\n",
       " (2, 'Bright Co', 'Berlin'),\n",
       " (3, 'Cafe 123', 'Paris')]"
      ]
     },
     "execution_count": 34,
     "metadata": {},
     "output_type": "execute_result"
    }
   ],
   "source": [
    "%%sql\n",
    "-- first show table\n",
    "SELECT * FROM customers;"
   ]
  },
  {
   "cell_type": "code",
   "execution_count": 36,
   "id": "9c298d93",
   "metadata": {},
   "outputs": [
    {
     "name": "stdout",
     "output_type": "stream",
     "text": [
      " * sqlite:///practice.db\n",
      "Done.\n"
     ]
    },
    {
     "data": {
      "text/html": [
       "<table>\n",
       "    <thead>\n",
       "        <tr>\n",
       "            <th>id</th>\n",
       "            <th>name</th>\n",
       "            <th>dept_id</th>\n",
       "            <th>salary</th>\n",
       "            <th>hire_date</th>\n",
       "        </tr>\n",
       "    </thead>\n",
       "    <tbody>\n",
       "        <tr>\n",
       "            <td>1</td>\n",
       "            <td>Alice</td>\n",
       "            <td>1</td>\n",
       "            <td>90000</td>\n",
       "            <td>2018-03-21</td>\n",
       "        </tr>\n",
       "        <tr>\n",
       "            <td>2</td>\n",
       "            <td>Bob</td>\n",
       "            <td>1</td>\n",
       "            <td>80000</td>\n",
       "            <td>2019-07-15</td>\n",
       "        </tr>\n",
       "        <tr>\n",
       "            <td>3</td>\n",
       "            <td>Charlie</td>\n",
       "            <td>2</td>\n",
       "            <td>65000</td>\n",
       "            <td>2020-01-10</td>\n",
       "        </tr>\n",
       "        <tr>\n",
       "            <td>4</td>\n",
       "            <td>Dana</td>\n",
       "            <td>3</td>\n",
       "            <td>70000</td>\n",
       "            <td>2017-09-05</td>\n",
       "        </tr>\n",
       "        <tr>\n",
       "            <td>5</td>\n",
       "            <td>Eve</td>\n",
       "            <td>None</td>\n",
       "            <td>72000</td>\n",
       "            <td>2021-11-23</td>\n",
       "        </tr>\n",
       "    </tbody>\n",
       "</table>"
      ],
      "text/plain": [
       "[(1, 'Alice', 1, 90000, '2018-03-21'),\n",
       " (2, 'Bob', 1, 80000, '2019-07-15'),\n",
       " (3, 'Charlie', 2, 65000, '2020-01-10'),\n",
       " (4, 'Dana', 3, 70000, '2017-09-05'),\n",
       " (5, 'Eve', None, 72000, '2021-11-23')]"
      ]
     },
     "execution_count": 36,
     "metadata": {},
     "output_type": "execute_result"
    }
   ],
   "source": [
    "%%sql\n",
    "-- first show table\n",
    "SELECT * FROM employees;"
   ]
  },
  {
   "cell_type": "markdown",
   "id": "ccde0e7c",
   "metadata": {},
   "source": [
    "# Answers"
   ]
  },
  {
   "cell_type": "code",
   "execution_count": 35,
   "id": "89511842",
   "metadata": {},
   "outputs": [
    {
     "name": "stdout",
     "output_type": "stream",
     "text": [
      " * sqlite:///practice.db\n",
      "Done.\n",
      "Done.\n"
     ]
    },
    {
     "data": {
      "text/html": [
       "<table>\n",
       "    <thead>\n",
       "        <tr>\n",
       "            <th>name</th>\n",
       "            <th>city</th>\n",
       "        </tr>\n",
       "    </thead>\n",
       "    <tbody>\n",
       "        <tr>\n",
       "            <td>Acme Corp</td>\n",
       "            <td>London</td>\n",
       "        </tr>\n",
       "        <tr>\n",
       "            <td>Bright Co</td>\n",
       "            <td>Berlin</td>\n",
       "        </tr>\n",
       "        <tr>\n",
       "            <td>Cafe 123</td>\n",
       "            <td>Paris</td>\n",
       "        </tr>\n",
       "    </tbody>\n",
       "</table>"
      ],
      "text/plain": [
       "[('Acme Corp', 'London'), ('Bright Co', 'Berlin'), ('Cafe 123', 'Paris')]"
      ]
     },
     "execution_count": 35,
     "metadata": {},
     "output_type": "execute_result"
    }
   ],
   "source": [
    "%%sql\n",
    "-- 1\n",
    "SELECT name, price from products;\n",
    "\n",
    "-- 2\n",
    "SELECT name, city from customers;\n"
   ]
  },
  {
   "cell_type": "code",
   "execution_count": 37,
   "id": "afda6c55",
   "metadata": {},
   "outputs": [
    {
     "name": "stdout",
     "output_type": "stream",
     "text": [
      " * sqlite:///practice.db\n",
      "Done.\n"
     ]
    },
    {
     "data": {
      "text/html": [
       "<table>\n",
       "    <thead>\n",
       "        <tr>\n",
       "            <th>dept_id</th>\n",
       "        </tr>\n",
       "    </thead>\n",
       "    <tbody>\n",
       "        <tr>\n",
       "            <td>1</td>\n",
       "        </tr>\n",
       "        <tr>\n",
       "            <td>2</td>\n",
       "        </tr>\n",
       "        <tr>\n",
       "            <td>3</td>\n",
       "        </tr>\n",
       "        <tr>\n",
       "            <td>None</td>\n",
       "        </tr>\n",
       "    </tbody>\n",
       "</table>"
      ],
      "text/plain": [
       "[(1,), (2,), (3,), (None,)]"
      ]
     },
     "execution_count": 37,
     "metadata": {},
     "output_type": "execute_result"
    }
   ],
   "source": [
    "%%sql\n",
    "SELECT DISTINCT dept_id from employees;"
   ]
  },
  {
   "cell_type": "markdown",
   "id": "5e7ab237",
   "metadata": {},
   "source": [
    "# Solutions"
   ]
  },
  {
   "cell_type": "code",
   "execution_count": null,
   "id": "06e0921a",
   "metadata": {},
   "outputs": [],
   "source": [
    "# SELECT name, price FROM products;\n",
    "\n",
    "# SELECT name, city FROM customers;\n",
    "\n",
    "# SELECT DISTINCT dept_id FROM employees;"
   ]
  }
 ],
 "metadata": {
  "kernelspec": {
   "display_name": "learn-sql--afPZWrd-py3.11",
   "language": "python",
   "name": "python3"
  },
  "language_info": {
   "codemirror_mode": {
    "name": "ipython",
    "version": 3
   },
   "file_extension": ".py",
   "mimetype": "text/x-python",
   "name": "python",
   "nbconvert_exporter": "python",
   "pygments_lexer": "ipython3",
   "version": "3.11.4"
  }
 },
 "nbformat": 4,
 "nbformat_minor": 5
}
